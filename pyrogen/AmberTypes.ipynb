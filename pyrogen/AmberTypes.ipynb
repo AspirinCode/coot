{
 "cells": [
  {
   "cell_type": "code",
   "execution_count": 7,
   "metadata": {
    "collapsed": true
   },
   "outputs": [],
   "source": [
    "from __future__ import print_function"
   ]
  },
  {
   "cell_type": "code",
   "execution_count": 8,
   "metadata": {
    "collapsed": true
   },
   "outputs": [],
   "source": [
    "import pyrogen"
   ]
  },
  {
   "cell_type": "code",
   "execution_count": 9,
   "metadata": {
    "collapsed": true
   },
   "outputs": [],
   "source": [
    "import atom_types"
   ]
  },
  {
   "cell_type": "code",
   "execution_count": 10,
   "metadata": {
    "collapsed": true
   },
   "outputs": [],
   "source": [
    "m = pyrogen.MolFromFetchedCode('EFZ')"
   ]
  },
  {
   "cell_type": "code",
   "execution_count": 11,
   "metadata": {
    "collapsed": false,
    "scrolled": true
   },
   "outputs": [
    {
     "data": {
      "image/png": "[encoded data removed]",
      "text/plain": [
       "<IPython.core.display.Image object>"
      ]
     },
     "metadata": {},
     "output_type": "display_data"
    }
   ],
   "source": [
    "pyrogen.depict(pyrogen.prep(m))"
   ]
  },
  {
   "cell_type": "code",
   "execution_count": 12,
   "metadata": {
    "collapsed": false
   },
   "outputs": [
    {
     "data": {
      "text/plain": [
       "True"
      ]
     },
     "execution_count": 12,
     "metadata": {},
     "output_type": "execute_result"
    }
   ],
   "source": [
    "atom_types.set_amber_atom_types(m)"
   ]
  },
  {
   "cell_type": "code",
   "execution_count": 14,
   "metadata": {
    "collapsed": false
   },
   "outputs": [
    {
     "name": "stdout",
     "output_type": "stream",
     "text": [
      "atom CL   type CL\n",
      "atom  F1  type F\n",
      "atom  F2  type F\n",
      "atom  F3  type F\n",
      "atom  O1  type O\n",
      "atom  O2  type OS\n",
      "atom  N   type N\n",
      "atom  C1  type CA\n",
      "atom  C2  type CA\n",
      "atom  C3  type CA\n",
      "atom  C4  type CA\n",
      "atom  C5  type CA\n",
      "atom  C6  type CA\n",
      "atom  C7  type CT\n",
      "atom  C8  type C-unknown\n",
      "atom  C9  type C-unknown\n",
      "atom  C10 type CT\n",
      "atom  C11 type CT\n",
      "atom  C12 type CT\n",
      "atom  C13 type CT\n",
      "atom  C14 type C\n",
      "atom  HN  type H\n",
      "atom  H2  type HC\n",
      "atom  H3  type HC\n",
      "atom  H5  type HC\n",
      "atom H101 type HC\n",
      "atom H111 type HC\n",
      "atom H112 type HC\n",
      "atom H121 type HC\n",
      "atom H122 type HC\n"
     ]
    }
   ],
   "source": [
    "for atom in m.GetAtoms():\n",
    "    print(\"atom {} type {}\".format(atom.GetProp('name'), atom.GetProp('amber_atom_type')))"
   ]
  },
  {
   "cell_type": "code",
   "execution_count": null,
   "metadata": {
    "collapsed": true
   },
   "outputs": [],
   "source": []
  }
 ],
 "metadata": {
  "kernelspec": {
   "display_name": "Python 2",
   "language": "python",
   "name": "python2"
  },
  "language_info": {
   "codemirror_mode": {
    "name": "ipython",
    "version": 2
   },
   "file_extension": ".py",
   "mimetype": "text/x-python",
   "name": "python",
   "nbconvert_exporter": "python",
   "pygments_lexer": "ipython2",
   "version": "2.7.13"
  }
 },
 "nbformat": 4,
 "nbformat_minor": 0
}
